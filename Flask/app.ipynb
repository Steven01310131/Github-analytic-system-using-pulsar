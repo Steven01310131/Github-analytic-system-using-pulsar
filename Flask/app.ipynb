{
 "cells": [
  {
   "cell_type": "code",
   "execution_count": 1,
   "id": "dc6c85a8",
   "metadata": {},
   "outputs": [],
   "source": [
    "import pymongo\n",
    "import pprint\n",
    "from pymongo import MongoClient\n",
    "import seaborn as sns\n",
    "import matplotlib.pyplot as plt\n",
    "from flask import Flask, render_template"
   ]
  },
  {
   "cell_type": "code",
   "execution_count": 2,
   "id": "2a573439",
   "metadata": {},
   "outputs": [],
   "source": [
    "#Establish a connection to your MongoDB server\n",
    "# client = MongoClient('130.238.29.169', 27017)\n",
    "from pymongo import MongoClient\n",
    "# MongoDB connection details\n",
    "host = '130.238.29.169'\n",
    "port = 27017\n",
    "username = 'root'\n",
    "password = 'example'\n",
    "# Create the MongoDB URI with authentication\n",
    "uri = f\"mongodb://{username}:{password}@{host}:{port}\"\n",
    "# Establish a connection to your MongoDB server with authentication\n",
    "client = MongoClient(uri)\n",
    "# Now you can work with the authenticated connection\n",
    "# For example, you can access collections in the database\n",
    "db = client['githubdata']\n",
    "collection = db['repositories_v1']"
   ]
  },
  {
   "cell_type": "code",
   "execution_count": 3,
   "id": "328dfcca",
   "metadata": {},
   "outputs": [],
   "source": [
    "#Group the documents by language and count the projects\n",
    "pipeline1 = [\n",
    "    {'$group': {'_id': '$language', 'count': {'$sum': 1}}},\n",
    "    {'$sort': {'count': -1}},\n",
    "    {'$limit': 10}\n",
    "]\n",
    "#Perform the aggregation query\n",
    "result = collection.aggregate(pipeline1)\n",
    "#Retrieve and print the top 10 programming languages\n",
    "languages = []\n",
    "counts = []\n",
    "for doc in result:\n",
    "    languages.append(doc['_id'])\n",
    "    counts.append(doc['count'])"
   ]
  },
  {
   "cell_type": "code",
   "execution_count": 4,
   "id": "4e761f0e",
   "metadata": {},
   "outputs": [],
   "source": [
    "top_projects = collection.find(\n",
    "    {\"updated_commits\": True},\n",
    "    {\"full_name\": 1, \"commits\": 1}\n",
    ").sort(\"commits\", -1).limit(10)\n",
    "# get the top 10 projects\n",
    "projects = []\n",
    "proj_counts = []\n",
    "for doc in top_projects:\n",
    "    projects.append(doc['full_name'])\n",
    "    proj_counts.append(doc['commits'])"
   ]
  },
  {
   "cell_type": "code",
   "execution_count": 5,
   "id": "df70695e",
   "metadata": {},
   "outputs": [],
   "source": [
    "results = collection.aggregate([\n",
    "    {\n",
    "        '$match': {\n",
    "            'updated_unit_tests': True\n",
    "        }\n",
    "    },\n",
    "    {\n",
    "        '$group': {\n",
    "            '_id': '$language',\n",
    "            'count': {'$sum': 1}\n",
    "        }\n",
    "    },\n",
    "    {\n",
    "        '$sort': {'count': -1}\n",
    "    },\n",
    "    {\n",
    "        '$limit': 10\n",
    "    }\n",
    "])\n",
    "# Print the top 10 programming languages\n",
    "td_languages = []\n",
    "td_count = []\n",
    "for result in results:\n",
    "    td_languages.append(result[\"_id\"])\n",
    "    td_count.append(result[\"count\"])"
   ]
  },
  {
   "cell_type": "code",
   "execution_count": 6,
   "id": "4454c27b",
   "metadata": {},
   "outputs": [],
   "source": [
    "# Query the database\n",
    "pipeline = [\n",
    "    {\n",
    "        '$match': {\n",
    "            \"updated_unit_tests\": True,\n",
    "            \"updated_cicd\": True\n",
    "        }\n",
    "    },\n",
    "    {\n",
    "        '$group': {\n",
    "            '_id': '$language',\n",
    "            'count': {'$sum': 1}\n",
    "        }\n",
    "    },\n",
    "    {\n",
    "        '$sort': {'count': -1}\n",
    "    },\n",
    "    {\n",
    "        '$limit': 10\n",
    "    }\n",
    "]\n",
    "results = collection.aggregate(pipeline)\n",
    "#top 10 programming languages that follow test-driven development and DevOps approach\n",
    "de_languages = []\n",
    "de_count = []\n",
    "for result in results:\n",
    "    de_languages.append(result['_id'])\n",
    "    de_count.append(result['count'])"
   ]
  },
  {
   "cell_type": "code",
   "execution_count": 7,
   "id": "9b6a1d19",
   "metadata": {},
   "outputs": [],
   "source": [
    "app = Flask(__name__)\n",
    "\n",
    "@app.route('/')\n",
    "def home():\n",
    "    # Data for the 1st graph \n",
    "    lang = languages\n",
    "    project_counts = counts\n",
    "    # Data for the 2nd graph \n",
    "    p_name = projects\n",
    "    p_count = proj_counts\n",
    "    # Data for the 3rd graph\n",
    "    td_lang = td_languages\n",
    "    t_count = td_count\n",
    "    # Data for the 4th graph\n",
    "    de_lang = de_languages\n",
    "    d_count = de_count\n",
    "    return render_template('index.html', title='Results of Analysis', lang=languages, project_counts=counts, p_name = projects, p_count = proj_counts, td_lang = td_languages, t_count = td_count, de_lang = de_languages, d_count = de_count)"
   ]
  },
  {
   "cell_type": "code",
   "execution_count": 9,
   "id": "a40e4f46",
   "metadata": {},
   "outputs": [
    {
     "name": "stdout",
     "output_type": "stream",
     "text": [
      " * Serving Flask app '__main__'\n",
      " * Debug mode: off\n"
     ]
    },
    {
     "name": "stderr",
     "output_type": "stream",
     "text": [
      "WARNING: This is a development server. Do not use it in a production deployment. Use a production WSGI server instead.\n",
      " * Running on all addresses (0.0.0.0)\n",
      " * Running on http://127.0.0.1:5000\n",
      " * Running on http://192.168.2.132:5000\n",
      "Press CTRL+C to quit\n",
      "130.243.231.115 - - [27/May/2023 12:07:47] \"GET / HTTP/1.1\" 200 -\n"
     ]
    }
   ],
   "source": [
    "if __name__ == '__main__':\n",
    "    app.run(host='0.0.0.0')"
   ]
  },
  {
   "cell_type": "code",
   "execution_count": null,
   "id": "8da40b32",
   "metadata": {},
   "outputs": [],
   "source": []
  }
 ],
 "metadata": {
  "kernelspec": {
   "display_name": "Python 3 (ipykernel)",
   "language": "python",
   "name": "python3"
  },
  "language_info": {
   "codemirror_mode": {
    "name": "ipython",
    "version": 3
   },
   "file_extension": ".py",
   "mimetype": "text/x-python",
   "name": "python",
   "nbconvert_exporter": "python",
   "pygments_lexer": "ipython3",
   "version": "3.10.6"
  }
 },
 "nbformat": 4,
 "nbformat_minor": 5
}
